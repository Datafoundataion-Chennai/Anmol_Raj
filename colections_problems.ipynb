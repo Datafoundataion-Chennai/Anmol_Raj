{
 "cells": [
  {
   "cell_type": "code",
   "execution_count": 11,
   "id": "19e7cd7d-080d-4d1c-be49-b9d588f0148f",
   "metadata": {},
   "outputs": [
    {
     "name": "stdout",
     "output_type": "stream",
     "text": [
      "OrderedDict({'bread': 8, 'milk': 3, 'cigarettes': 4})\n"
     ]
    }
   ],
   "source": [
    "# ________________________________________\n",
    "# 1. Prison Canteen Supply Tracker (OrderedDict, Counter)\n",
    "# 🚔 Theme: Managing a Prison Canteen\n",
    "# Problem:\n",
    "# You are in charge of tracking food supplies in a prison canteen. Prisoners purchase items, and you need to maintain the total quantity sold for each item in the order they were first requested.\n",
    "# Write a function that takes a list of tuples where each tuple contains a food item and quantity bought. The function should return an OrderedDict with total quantities per item in order of their first purchase.\n",
    "# Example Input:\n",
    "# requests = [\n",
    "#     (\"bread\", 5),\n",
    "#     (\"milk\", 2),\n",
    "#     (\"bread\", 3),\n",
    "#     (\"cigarettes\", 4),\n",
    "#     (\"milk\", 1)\n",
    "# ]\n",
    "# Expected Output:\n",
    "# OrderedDict([\n",
    "#     ('bread', 8),\n",
    "#     ('milk', 3),\n",
    "#     ('cigarettes', 4)\n",
    "# ])\n",
    "# 📌 Hint: Use OrderedDict and Counter to track purchases.\n",
    "# ________________________________________\n",
    "\n",
    "\n",
    "from collections import OrderedDict\n",
    "from collections import Counter\n",
    "\n",
    "requests = [\n",
    "    (\"bread\", 5),\n",
    "    (\"milk\", 2),\n",
    "    (\"bread\", 3),\n",
    "    (\"cigarettes\", 4),\n",
    "    (\"milk\", 1)\n",
    "]\n",
    "od = OrderedDict()\n",
    "for i, j in requests:\n",
    "    if i in od:\n",
    "        od[i] += j\n",
    "    else:\n",
    "        od[i] = j\n",
    "print(od)\n",
    "    "
   ]
  },
  {
   "cell_type": "code",
   "execution_count": 17,
   "id": "04bf87a6-23a8-4dc6-9120-91caf8453c6f",
   "metadata": {},
   "outputs": [
    {
     "name": "stdout",
     "output_type": "stream",
     "text": [
      "['attack', 'retreat', 'tanks', 'UNKNOWN']\n"
     ]
    }
   ],
   "source": [
    "# 2. Battlefield Communications Decoder (defaultdict, deque)\n",
    "# 🔫 Theme: Warzone Battlefield Encryption\n",
    "# Problem:\n",
    "# A military unit is intercepting encrypted enemy messages. Each word in the messages is an anagram of an actual codeword. You have a dictionary of known codewords, and you need to decode the intercepted words.\n",
    "# Write a function that takes a list of known codewords and a list of intercepted messages. Return the correct words. If no match is found, return \"UNKNOWN\".\n",
    "# Example Input:\n",
    "# codewords = [\"attack\", \"retreat\", \"sniper\", \"danger\", \"tanks\", \"enemy\"]\n",
    "# intercepted = [\"ckatta\", \"ratreet\", \"ksnat\", \"shadow\"]\n",
    "# Expected Output:\n",
    "# ['attack', 'retreat', 'tanks', 'UNKNOWN']\n",
    "# 📌 Hint: Use defaultdict(list) to map sorted characters of words.\n",
    "# ________________________________________\n",
    "\n",
    "from collections import defaultdict\n",
    "\n",
    "codewords = [\"attack\", \"retreat\", \"sniper\", \"danger\", \"tanks\", \"enemy\"]\n",
    "intercepted = [\"ckatta\", \"ratreet\", \"ksnat\", \"shadow\"]\n",
    "\n",
    "dict = defaultdict(list)\n",
    "output = []\n",
    "for i in codewords:\n",
    "    sorted_word = \"\".join(sorted(i))\n",
    "    dict[sorted_word].append(i)\n",
    "    \n",
    "for j in intercepted:\n",
    "    sorted_word = \"\".join(sorted(j))\n",
    "    if sorted_word in dict:\n",
    "        output.append(dict[sorted_word][0])\n",
    "    else:\n",
    "        output.append(\"UNKNOWN\")\n",
    "\n",
    "print(output)"
   ]
  },
  {
   "cell_type": "code",
   "execution_count": null,
   "id": "f2b8ecc1-4083-4b64-b475-eaaa48640e74",
   "metadata": {},
   "outputs": [],
   "source": [
    "# 3. Interstellar Crew Management (namedtuple, deque)\n",
    "# 🚀 Theme: Managing an Interstellar Space Crew\n",
    "# Problem:\n",
    "# You are the captain of a spaceship on a deep-space mission. Your crew members each have a name, role, and experience level.\n",
    "# 1.\tUse namedtuple to store crew member details.\n",
    "\n",
    "# 2.\tUse deque to manage the roster efficiently.\n",
    "\n",
    "# 3.\tImplement functions to:\n",
    "# –\tAdd a new crew member\n",
    "\n",
    "# –\tRemove the least experienced member\n",
    "\n",
    "# –\tDisplay the current crew lineup\n",
    "# Example Usage:\n",
    "# add_crew(\"Commander Vega\", \"Pilot\", 9)\n",
    "# add_crew(\"Dr. Nova\", \"Scientist\", 8)\n",
    "# add_crew(\"Lt. Orion\", \"Engineer\", 7)\n",
    "# remove_least_experienced()\n",
    "# display_roster()\n",
    "# Expected Output:\n",
    "# Current Crew Roster:\n",
    "# 1. Commander Vega (Role: Pilot, Experience: 9)\n",
    "# 2. Dr. Nova (Role: Scientist, Experience: 8)\n",
    "# 📌 Hint: Use namedtuple for structured crew data and deque for efficient roster changes.\n",
    "# ________________________________________\n",
    "\n",
    "\n",
    "from collections import namedtuple, deque\n",
    "\n"
   ]
  }
 ],
 "metadata": {
  "kernelspec": {
   "display_name": "Python [conda env:base] *",
   "language": "python",
   "name": "conda-base-py"
  },
  "language_info": {
   "codemirror_mode": {
    "name": "ipython",
    "version": 3
   },
   "file_extension": ".py",
   "mimetype": "text/x-python",
   "name": "python",
   "nbconvert_exporter": "python",
   "pygments_lexer": "ipython3",
   "version": "3.12.7"
  }
 },
 "nbformat": 4,
 "nbformat_minor": 5
}
