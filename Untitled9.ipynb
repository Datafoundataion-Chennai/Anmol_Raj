{
 "cells": [
  {
   "cell_type": "code",
   "execution_count": 7,
   "id": "c622a25c-41f7-4b81-ad84-d36a0746a2b7",
   "metadata": {},
   "outputs": [
    {
     "name": "stdout",
     "output_type": "stream",
     "text": [
      "{1: 2, 3: 4, 4: 5, 7: 8}\n"
     ]
    }
   ],
   "source": [
    "def merge(dic1, dic2):\n",
    "    dic1.update(dic2)\n",
    "    return dic1\n",
    "dic1 = {1 : 2, 3: 4}\n",
    "dic2 = {4: 5, 7 : 8}\n",
    "print(merge(dic1, dic2))\n"
   ]
  },
  {
   "cell_type": "code",
   "execution_count": null,
   "id": "eaf92a32-2538-4fe0-8c5a-1c7d471048a8",
   "metadata": {},
   "outputs": [],
   "source": []
  }
 ],
 "metadata": {
  "kernelspec": {
   "display_name": "Python [conda env:base] *",
   "language": "python",
   "name": "conda-base-py"
  },
  "language_info": {
   "codemirror_mode": {
    "name": "ipython",
    "version": 3
   },
   "file_extension": ".py",
   "mimetype": "text/x-python",
   "name": "python",
   "nbconvert_exporter": "python",
   "pygments_lexer": "ipython3",
   "version": "3.12.7"
  }
 },
 "nbformat": 4,
 "nbformat_minor": 5
}
