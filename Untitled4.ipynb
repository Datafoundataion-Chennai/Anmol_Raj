{
 "cells": [
  {
   "cell_type": "code",
   "execution_count": 39,
   "id": "025b9eed-aa09-4644-8fe9-f43f828eaff3",
   "metadata": {},
   "outputs": [
    {
     "name": "stdout",
     "output_type": "stream",
     "text": [
      "['support@example.c', 'john.doe123@company.o', 'jane_doe@domain.c']\n"
     ]
    }
   ],
   "source": [
    "import re\n",
    "text = \"Contact us at support@example.com, john.doe123@company.org, or invalid-email@com. Also, try jane_doe@domain.co.uk.\"\n",
    "match = re.findall(r\"[a-zA-Z0-9][a-zA-Z0-9.-_]+[a-zA-Z0-9-][@]+[a-zA-Z0-9]+[.]+[a-z]\", text)\n",
    "print(match)"
   ]
  },
  {
   "cell_type": "code",
   "execution_count": 35,
   "id": "8a6c8320-b45c-42dd-a441-8139215e6703",
   "metadata": {},
   "outputs": [
    {
     "name": "stdout",
     "output_type": "stream",
     "text": [
      "['#Python', '#coding', '#100DaysOfCode', '#Regex_Challenge']\n"
     ]
    }
   ],
   "source": [
    "import re\n",
    "tweet = \"Learning #Python is fun! #coding #100DaysOfCode #Regex_Challenge\"\n",
    "match = re.findall(r\"#\\w+\", tweet)\n",
    "print(match)"
   ]
  },
  {
   "cell_type": "code",
   "execution_count": 101,
   "id": "58c9c74d-b2b9-4ac6-9bb9-0dfdadcaf0fa",
   "metadata": {},
   "outputs": [
    {
     "name": "stdout",
     "output_type": "stream",
     "text": [
      "Valild\n",
      "Valild\n",
      "Invalid\n",
      "Valild\n",
      "Invalid\n"
     ]
    }
   ],
   "source": [
    "import re\n",
    "\n",
    "passwords = [\"WeakPass\", \"Str0ng@Pass\", \"NoSpecial1\", \"short!1\", \"Secure#123\"]\n",
    "for password in passwords:\n",
    "    if len(password) > 8 and not(re.search(r\"[A-Z]\", password) and re.search(r\"[a-z]\", password) and re.search(r\"[0-9]\", password) and re.search(r\"[@$!%*?&]\", password)):\n",
    "        print(\"Invalid\")\n",
    "    else:\n",
    "        print(\"Valild\") "
   ]
  },
  {
   "cell_type": "code",
   "execution_count": null,
   "id": "97316b1c-3f8a-4601-9dbc-02e91406d6a3",
   "metadata": {},
   "outputs": [],
   "source": []
  }
 ],
 "metadata": {
  "kernelspec": {
   "display_name": "Python [conda env:base] *",
   "language": "python",
   "name": "conda-base-py"
  },
  "language_info": {
   "codemirror_mode": {
    "name": "ipython",
    "version": 3
   },
   "file_extension": ".py",
   "mimetype": "text/x-python",
   "name": "python",
   "nbconvert_exporter": "python",
   "pygments_lexer": "ipython3",
   "version": "3.12.7"
  }
 },
 "nbformat": 4,
 "nbformat_minor": 5
}
