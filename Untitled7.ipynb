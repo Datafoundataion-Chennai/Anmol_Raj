{
 "cells": [
  {
   "cell_type": "code",
   "execution_count": 10,
   "id": "db1de59a-6790-4701-86d5-affcd436f161",
   "metadata": {},
   "outputs": [
    {
     "name": "stdout",
     "output_type": "stream",
     "text": [
      "[2025-03-04 12:05:23] - 200 - Request successful\n",
      "[2025-03-04 12:07:15] - 404 - Page not found\n",
      "[2025-03-04 12:10:45] - 500 - Internal server error\n",
      "[2025-03-04 12:15:10] - 200 - Request successful\n",
      "[2025-03-04 12:20:30] - 503 - Service unavailable\n"
     ]
    }
   ],
   "source": [
    "di = {}\n",
    "li = []\n",
    "c = 0\n",
    "with open(\"server_logs.txt\", \"r\") as file:\n",
    "    content = file.read()\n",
    "    print(content)\n",
    "    for r in content:\n",
    "        for i in r:\n",
    "            if c == 0:\n",
    "                di[i] = \"\"\n",
    "                li.append(i)\n",
    "            else:\n",
    "                di[li[c-1]] = i\n",
    "                c += 1\n",
    "        c += 1\n",
    "\n",
    "    print(di)"
   ]
  },
  {
   "cell_type": "code",
   "execution_count": null,
   "id": "6f7add36-4bfe-4e8e-9309-36b57625ae78",
   "metadata": {},
   "outputs": [],
   "source": []
  }
 ],
 "metadata": {
  "kernelspec": {
   "display_name": "Python [conda env:base] *",
   "language": "python",
   "name": "conda-base-py"
  },
  "language_info": {
   "codemirror_mode": {
    "name": "ipython",
    "version": 3
   },
   "file_extension": ".py",
   "mimetype": "text/x-python",
   "name": "python",
   "nbconvert_exporter": "python",
   "pygments_lexer": "ipython3",
   "version": "3.12.7"
  }
 },
 "nbformat": 4,
 "nbformat_minor": 5
}
