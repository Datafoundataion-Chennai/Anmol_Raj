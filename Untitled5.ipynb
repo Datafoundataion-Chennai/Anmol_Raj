{
 "cells": [
  {
   "cell_type": "code",
   "execution_count": 5,
   "id": "84fe1ce9-0224-489e-b201-8709e4f5618a",
   "metadata": {},
   "outputs": [
    {
     "name": "stdout",
     "output_type": "stream",
     "text": [
      "🎃 Welcome to the Haunted Maze! Escape before the ghosts catch you! 👻\n",
      "# # # # # # # #\n",
      "# P . . # . E #\n",
      "# # # . # . # #\n",
      "# . G . . . . #\n",
      "# # # # # # # #\n",
      "\n",
      "\n"
     ]
    },
    {
     "name": "stdin",
     "output_type": "stream",
     "text": [
      "Move (W/A/S/D):  D, S, D\n"
     ]
    },
    {
     "name": "stdout",
     "output_type": "stream",
     "text": [
      "Invalid move! Use W (up), A (left), S (down), D (right)\n"
     ]
    },
    {
     "name": "stdin",
     "output_type": "stream",
     "text": [
      "Move (W/A/S/D):  D\n"
     ]
    },
    {
     "ename": "UnboundLocalError",
     "evalue": "cannot access local variable 'new_gx' where it is not associated with a value",
     "output_type": "error",
     "traceback": [
      "\u001b[1;31m---------------------------------------------------------------------------\u001b[0m",
      "\u001b[1;31mUnboundLocalError\u001b[0m                         Traceback (most recent call last)",
      "Cell \u001b[1;32mIn[5], line 93\u001b[0m\n\u001b[0;32m     88\u001b[0m         print_maze()\n\u001b[0;32m     90\u001b[0m         \u001b[38;5;66;03m# TODO: Check win condition\u001b[39;00m\n\u001b[0;32m     91\u001b[0m         \u001b[38;5;66;03m# TODO: Check lose condition\u001b[39;00m\n\u001b[1;32m---> 93\u001b[0m game_loop()\n",
      "Cell \u001b[1;32mIn[5], line 87\u001b[0m, in \u001b[0;36mgame_loop\u001b[1;34m()\u001b[0m\n\u001b[0;32m     84\u001b[0m     \u001b[38;5;28;01mcontinue\u001b[39;00m\n\u001b[0;32m     86\u001b[0m move_player(direction)  \u001b[38;5;66;03m# Move player\u001b[39;00m\n\u001b[1;32m---> 87\u001b[0m move_ghosts()  \u001b[38;5;66;03m# Move ghosts\u001b[39;00m\n\u001b[0;32m     88\u001b[0m print_maze()\n",
      "Cell \u001b[1;32mIn[5], line 62\u001b[0m, in \u001b[0;36mmove_ghosts\u001b[1;34m()\u001b[0m\n\u001b[0;32m     60\u001b[0m     new_gx\u001b[38;5;241m+\u001b[39m\u001b[38;5;241m=\u001b[39m\u001b[38;5;241m1\u001b[39m\n\u001b[0;32m     61\u001b[0m \u001b[38;5;28;01melif\u001b[39;00m(gx\u001b[38;5;241m>\u001b[39mpx):\n\u001b[1;32m---> 62\u001b[0m     new_gx\u001b[38;5;241m-\u001b[39m\u001b[38;5;241m=\u001b[39m\u001b[38;5;241m1\u001b[39m\n\u001b[0;32m     63\u001b[0m \u001b[38;5;28;01melif\u001b[39;00m(gy\u001b[38;5;241m<\u001b[39mpy):\n\u001b[0;32m     64\u001b[0m     new_gy\u001b[38;5;241m+\u001b[39m\u001b[38;5;241m=\u001b[39m\u001b[38;5;241m1\u001b[39m\n",
      "\u001b[1;31mUnboundLocalError\u001b[0m: cannot access local variable 'new_gx' where it is not associated with a value"
     ]
    }
   ],
   "source": [
    "import random\n",
    "import time\n",
    "\n",
    "# Define the maze grid\n",
    "maze = [\n",
    "    [\"#\", \"#\", \"#\", \"#\", \"#\", \"#\", \"#\", \"#\"],\n",
    "    [\"#\", \"P\", \".\", \".\", \"#\", \".\", \"E\", \"#\"],\n",
    "    [\"#\", \"#\", \"#\", \".\", \"#\", \".\", \"#\", \"#\"],\n",
    "    [\"#\", \".\", \"G\", \".\", \".\", \".\", \".\", \"#\"],\n",
    "    [\"#\", \"#\", \"#\", \"#\", \"#\", \"#\", \"#\", \"#\"]\n",
    "]\n",
    "\n",
    "# Function to display the maze\n",
    "def print_maze():\n",
    "    for row in maze:\n",
    "        print(\" \".join(row))\n",
    "    print(\"\\n\")\n",
    "\n",
    "# Function to find the position of an element (P, G, E)\n",
    "def find_position(symbol):\n",
    "    for i in range(len(maze)):\n",
    "        for j in range(len(maze[i])):\n",
    "            if maze[i][j] == symbol:\n",
    "                return (i, j)\n",
    "    return None\n",
    "\n",
    "# Function to move the player\n",
    "def move_player(direction):\n",
    "    global maze\n",
    "    px, py = find_position(\"P\")\n",
    "    \n",
    "    # Calculate new position based on input\n",
    "    new_x, new_y = px, py\n",
    "    if direction == \"W\": new_x -= 1  # Up\n",
    "    elif direction == \"S\": new_x += 1  # Down\n",
    "    elif direction == \"A\": new_y -= 1  # Left\n",
    "    elif direction == \"D\": new_y += 1  # Right\n",
    "    \n",
    "    # TODO: Handle wall collisions\n",
    "    if(maze[new_x][new_y]==\"#\"):\n",
    "        print(\"There is a wall you cannot move\")\n",
    "        return\n",
    "        \n",
    "    # TODO: Handle reaching the exit\n",
    "    elif(maze[new_x][new_y]==\"E\"):\n",
    "        print(\"Hurray! you have escaped from the haunted maze\")\n",
    "        exit()\n",
    "    # TODO: Handle valid movement updates\n",
    "    maze[px][py]='.'\n",
    "    maze[new_x][new_y]='P'\n",
    "\n",
    "# Function to move the ghosts towards the player\n",
    "def move_ghosts():\n",
    "    global maze\n",
    "    px, py = find_position(\"P\")\n",
    "    gx, gy = find_position(\"G\")\n",
    "\n",
    "    # TODO: Implement logic to move ghost closer to player\n",
    "    if(gx<px):\n",
    "        new_gx+=1\n",
    "    elif(gx>px):\n",
    "        new_gx-=1\n",
    "    elif(gy<py):\n",
    "        new_gy+=1\n",
    "    else:\n",
    "        new_gy-=1\n",
    "\n",
    "    if(maze[new_gx][new_gy]=='P'):\n",
    "        print(\"You caught by the ghost\")\n",
    "        exit()\n",
    "    if(maze[new_gx][new_gy]=='#'):\n",
    "        return\n",
    "\n",
    "\n",
    "# Game loop\n",
    "def game_loop():\n",
    "    print(\"🎃 Welcome to the Haunted Maze! Escape before the ghosts catch you! 👻\")\n",
    "    print_maze()\n",
    "    \n",
    "    while True:\n",
    "        direction = input(\"Move (W/A/S/D): \").upper()\n",
    "        if direction not in [\"W\", \"A\", \"S\", \"D\"]:\n",
    "            print(\"Invalid move! Use W (up), A (left), S (down), D (right)\")\n",
    "            continue\n",
    "        \n",
    "        move_player(direction)  # Move player\n",
    "        move_ghosts()  # Move ghosts\n",
    "        print_maze()\n",
    "        \n",
    "        # TODO: Check win condition\n",
    "        # TODO: Check lose condition\n",
    "\n",
    "game_loop()\n"
   ]
  },
  {
   "cell_type": "code",
   "execution_count": null,
   "id": "58cd1c6c-b862-4d24-97e8-833ceb668fff",
   "metadata": {},
   "outputs": [],
   "source": []
  }
 ],
 "metadata": {
  "kernelspec": {
   "display_name": "Python [conda env:base] *",
   "language": "python",
   "name": "conda-base-py"
  },
  "language_info": {
   "codemirror_mode": {
    "name": "ipython",
    "version": 3
   },
   "file_extension": ".py",
   "mimetype": "text/x-python",
   "name": "python",
   "nbconvert_exporter": "python",
   "pygments_lexer": "ipython3",
   "version": "3.12.7"
  }
 },
 "nbformat": 4,
 "nbformat_minor": 5
}
