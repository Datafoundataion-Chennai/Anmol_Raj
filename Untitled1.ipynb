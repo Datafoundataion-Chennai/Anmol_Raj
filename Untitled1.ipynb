{
 "cells": [
  {
   "cell_type": "code",
   "execution_count": 6,
   "id": "ac2ede4c-d5e7-49d8-b00e-bf99779c5358",
   "metadata": {},
   "outputs": [
    {
     "name": "stdout",
     "output_type": "stream",
     "text": [
      "97.23\n"
     ]
    }
   ],
   "source": [
    "# 1)You have a list of product prices in string format. Convert them into float values using map(), then calculate the total sum.\n",
    "# sample input: prices = [\"12.99\", \"23.50\", \"9.99\", \"45.00\", \"5.75\"]\n",
    "def castToFloat(prices):\n",
    "    sum = 0\n",
    "    li = list(map(lambda x: float(x), prices))\n",
    "    for i in li:\n",
    "        sum += i\n",
    "    return(sum)\n",
    "\n",
    "prices = [\"12.99\", \"23.50\", \"9.99\", \"45.00\", \"5.75\"]\n",
    "print(castToFloat(prices))"
   ]
  },
  {
   "cell_type": "code",
   "execution_count": 7,
   "id": "90d36704-7ac0-48cc-9988-94b941adf0f4",
   "metadata": {},
   "outputs": [
    {
     "name": "stdout",
     "output_type": "stream",
     "text": [
      "['apple', 'grape', 'mango']\n"
     ]
    }
   ],
   "source": [
    "# 2)Given a list of words, filter out the words that have an odd number of characters.\n",
    "# sample input: words = [\"apple\", \"banana\", \"grape\", \"kiwi\", \"mango\", \"strawberry\"] \n",
    "def filterWords(words):\n",
    "    li = list(filter(lambda x: len(x) % 2 != 0, words))\n",
    "    return li\n",
    "\n",
    "words = [\"apple\", \"banana\", \"grape\", \"kiwi\", \"mango\", \"strawberry\"] \n",
    "print(filterWords(words))"
   ]
  },
  {
   "cell_type": "code",
   "execution_count": 28,
   "id": "66f60155-a463-4d31-bc0c-e54f2b543981",
   "metadata": {},
   "outputs": [
    {
     "name": "stdout",
     "output_type": "stream",
     "text": [
      "[(3, 1, 3), (3, 2, 6), (3, 3, 9), (3, 4, 12), (3, 5, 15), (3, 6, 18), (3, 7, 21), (3, 8, 24), (3, 9, 27), (3, 10, 30)]\n"
     ]
    }
   ],
   "source": [
    "# 3)Given a number n, return its multiplication table (1 to 10) as a list of tuples.\n",
    "# Input: 3\n",
    "# Output: [(3, 1, 3), (3, 2, 6), ..., (3, 10, 30)]\n",
    "def multiplicationTable(num):\n",
    "    i = 1\n",
    "    li = []\n",
    "    while i <= 10:\n",
    "        li.append(tuple((num, i, num*i)))\n",
    "        i = i+1\n",
    "    return li\n",
    "\n",
    "num = 3\n",
    "print(multiplicationTable(num))"
   ]
  },
  {
   "cell_type": "code",
   "execution_count": 30,
   "id": "09a737f7-6dd8-4d42-b64d-9db8ba7f2dd6",
   "metadata": {},
   "outputs": [
    {
     "name": "stdout",
     "output_type": "stream",
     "text": [
      "3\n"
     ]
    }
   ],
   "source": [
    "# 4)Given a sentence as a string, return the count of vowels (a, e, i, o, u).\n",
    "# Input: \"Hello World\"\n",
    "# Output: 3\n",
    "def countVowels(string):\n",
    "    count = 0\n",
    "    for i in range(0, len(string)):\n",
    "        if (string[i] == 'a' or string[i] == 'e' or string[i] == 'i' or string[i] == 'o' or string[i] == 'u'):\n",
    "            count = count + 1\n",
    "    return count\n",
    "\n",
    "string = \"Hello World\"\n",
    "print(countVowels(string))"
   ]
  },
  {
   "cell_type": "code",
   "execution_count": 22,
   "id": "b363306d-e71a-4258-86ef-f4cd7c175b06",
   "metadata": {},
   "outputs": [
    {
     "name": "stdout",
     "output_type": "stream",
     "text": [
      "[['eat', 'tea', 'ate'], ['tan', 'nat'], ['bat']]\n"
     ]
    }
   ],
   "source": [
    "# Intermediate level problems:\n",
    "\n",
    "# 1)Given a list of words, group words that are anagrams.\n",
    "# Input: [\"eat\", \"tea\", \"tan\", \"ate\", \"nat\", \"bat\"]\n",
    "# Output: [['eat', 'tea', 'ate'], ['tan', 'nat'], ['bat']]\n",
    "li = [\"eat\", \"tea\", \"tan\", \"ate\", \"nat\", \"bat\"]\n",
    "di = {}\n",
    "def areAnagrams(li):\n",
    "    for i in range(0, len(li)):\n",
    "        temp = \"\".join(sorted(li[i]))\n",
    "        if temp in di:\n",
    "            di[temp].append(li[i])\n",
    "        else:\n",
    "            di[temp] = [li[i]]\n",
    "    print(list(di.values()))\n",
    "\n",
    "areAnagrams(li)"
   ]
  },
  {
   "cell_type": "code",
   "execution_count": 8,
   "id": "7d17f0ec-d186-48f2-aafd-9f0446cbbdd1",
   "metadata": {
    "editable": true,
    "slideshow": {
     "slide_type": ""
    },
    "tags": []
   },
   "outputs": [
    {
     "name": "stdout",
     "output_type": "stream",
     "text": [
      "4\n"
     ]
    }
   ],
   "source": [
    "# 2)Given an unsorted list of integers, find the length of the longest consecutive sequence.\n",
    "# Input: [100, 4, 200, 1, 3, 2]\n",
    "# Output: 4  # (because the sequence is 1, 2, 3, 4)\n",
    "def longestConsSeq(li):\n",
    "    li1 = set(li)\n",
    "    li1 = sorted(li)\n",
    "    count = 1\n",
    "    idx = 0\n",
    "    for i in range(1, len(li1)):\n",
    "        if (li1[idx] + 1) == li1[i] :\n",
    "            count = count + 1\n",
    "            idx = idx + 1\n",
    "\n",
    "    return count\n",
    "li = [100, 4, 200, 1, 3, 2]\n",
    "print(longestConsSeq(li))"
   ]
  },
  {
   "cell_type": "code",
   "execution_count": 25,
   "id": "ae44ecfc-be1d-4fcf-82ff-4a1eea11ee05",
   "metadata": {},
   "outputs": [
    {
     "name": "stdout",
     "output_type": "stream",
     "text": [
      "True\n"
     ]
    }
   ],
   "source": [
    "# Problem Statement:\n",
    "# Given a M x N matrix where rows and columns are sorted in ascending order, write a function to check if a given number exists.\n",
    "# Input:\n",
    "# matrix = [\n",
    "#   [1, 4, 7, 11],\n",
    "#   [2, 5, 8, 12],\n",
    "#   [3, 6, 9, 16]\n",
    "# ]\n",
    "# target = 5\n",
    "# Output: True\n",
    "def targetNum(matrix, target):\n",
    "    if not matrix or not matrix[0]:\n",
    "        return Flase\n",
    "    rows = len(matrix)\n",
    "    cols = len(matrix[0])\n",
    "\n",
    "    row = 0\n",
    "    col = cols - 1\n",
    "\n",
    "    while row < rows and col >=0:\n",
    "        if matrix[row][col] == target:\n",
    "            return True\n",
    "        elif matrix[row][col] > target:\n",
    "            col -= 1\n",
    "        else:\n",
    "            row += 1\n",
    "\n",
    "    return False\n",
    "    \n",
    "matrix = [\n",
    "    [1, 4, 7, 11],\n",
    "    [2, 5, 8, 12],\n",
    "    [3, 6, 9, 16]\n",
    "]\n",
    "target = 5\n",
    "print(targetNum(matrix, target))"
   ]
  },
  {
   "cell_type": "code",
   "execution_count": 17,
   "id": "18e1f02d-5fe0-4a5d-9ea4-ecdd1f8f0f12",
   "metadata": {},
   "outputs": [
    {
     "name": "stdout",
     "output_type": "stream",
     "text": [
      "{'player1': 3, 'player2': 4}\n",
      "{2: 2.7777777777777777, 3: 5.555555555555555, 4: 8.333333333333332, 5: 11.11111111111111, 6: 13.88888888888889, 7: 16.666666666666664, 8: 13.88888888888889, 9: 11.11111111111111, 10: 8.333333333333332, 11: 5.555555555555555, 12: 2.7777777777777777}\n",
      "[(1, 1), (1, 2), (1, 3), (1, 4), (1, 5), (1, 6), (2, 1), (2, 2), (2, 3), (2, 4), (2, 5), (2, 6), (3, 1), (3, 2), (3, 3), (3, 4), (3, 5), (3, 6), (4, 1), (4, 2), (4, 3), (4, 4), (4, 5), (4, 6), (5, 1), (5, 2), (5, 3), (5, 4), (5, 5), (5, 6), (6, 1), (6, 2), (6, 3), (6, 4), (6, 5), (6, 6)]\n"
     ]
    }
   ],
   "source": [
    "d1 = [1,2,3,4,5,6]\n",
    "d2 = [1,2,3,4,5,6]\n",
    "R = 5\n",
    "o = [[(1,3),(4,5)],[(2,3),(4,5)],[(1,6),(2,2)],[(3,4),(5,1)],[(6,6),(1,1)]]\n",
    "score ={'player1':0,'player2':0}\n",
    "li = []\n",
    "for i in d1:\n",
    "    for j in d2:\n",
    "        li.append((i,j))\n",
    "di = {}\n",
    "n = len(li)\n",
    "for i in li:\n",
    "    s = sum(i)\n",
    "    if s in di:\n",
    "        di[s].append(i)\n",
    "    else:\n",
    "        di[s] = [i]\n",
    "\n",
    "for i,j in di.items():\n",
    "    di[i] = len(j)/n*100\n",
    "\n",
    "for i in o:\n",
    "    player_1 = sum(i[0])\n",
    "    player_2 = sum(i[1])\n",
    "    if(di[player_1] < di[player_2]):\n",
    "        score['player1'] = score['player1'] + 1\n",
    "    elif(di[player_2] < di[player_1]):\n",
    "        score['player2'] = score['player2'] + 1\n",
    "    else:\n",
    "        score['player1'] = score['player1'] + 1\n",
    "        score['player2'] = score['player2'] + 1\n",
    "\n",
    "print(score)\n",
    "\n",
    "print(di)\n",
    "print(li)"
   ]
  },
  {
   "cell_type": "code",
   "execution_count": null,
   "id": "fe0cd335-5df9-4f0b-9ea7-1aac267fdfc2",
   "metadata": {},
   "outputs": [],
   "source": []
  }
 ],
 "metadata": {
  "kernelspec": {
   "display_name": "Python [conda env:base] *",
   "language": "python",
   "name": "conda-base-py"
  },
  "language_info": {
   "codemirror_mode": {
    "name": "ipython",
    "version": 3
   },
   "file_extension": ".py",
   "mimetype": "text/x-python",
   "name": "python",
   "nbconvert_exporter": "python",
   "pygments_lexer": "ipython3",
   "version": "3.12.7"
  }
 },
 "nbformat": 4,
 "nbformat_minor": 5
}
