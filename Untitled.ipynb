{
 "cells": [
  {
   "cell_type": "code",
   "execution_count": 48,
   "id": "b1942123-c51d-43c5-9194-6ed6d3278cf3",
   "metadata": {},
   "outputs": [
    {
     "name": "stdout",
     "output_type": "stream",
     "text": [
      "30\n",
      "None\n",
      "5\n",
      "None\n",
      "4\n",
      "None\n",
      "None\n"
     ]
    }
   ],
   "source": [
    "def second_largest(list1):\n",
    "    if(len(list1) == 1):\n",
    "        return\n",
    "    list1 = sorted(list1)\n",
    "    list1.reverse()\n",
    "    print(list1[1])\n",
    "\n",
    "print(second_largest([10, 20, 20, 30, 40]))\n",
    "print(second_largest([5, 5, 5, 5]))\n",
    "print(second_largest([1, 2, 3, 4, 5])) \n",
    "print(second_largest([100])) "
   ]
  },
  {
   "cell_type": "code",
   "execution_count": null,
   "id": "e60623c4-37ef-4035-a37d-75716797db6c",
   "metadata": {},
   "outputs": [],
   "source": [
    "def word_frequency(str):\n",
    "    str = str.lower()\n",
    "    freq = dict()\n",
    "    words = str.split()\n",
    "    for word in words:\n",
    "        if word in freq:\n",
    "            freq[word] += 1\n",
    "        else:\n",
    "            freq[word] = 1\n",
    "\n",
    "    return freq\n",
    "\n",
    "print(word_frequency(\"Hello world hello\"))\n",
    "print(word_frequency(\"Python is great and Python is fun\"))  "
   ]
  },
  {
   "cell_type": "code",
   "execution_count": null,
   "id": "d229b4fd-8569-4e4a-b96d-04995e902394",
   "metadata": {},
   "outputs": [],
   "source": [
    "def merge_dicts(dict1, dict2):\n",
    "    for i in dict1.items():\n",
    "        for j in dict2.items():\n",
    "            if dict1.key == dict2.key:\n",
    "                "
   ]
  },
  {
   "cell_type": "code",
   "execution_count": 52,
   "id": "53c0963b-b173-4199-bfa1-369c31a9cc30",
   "metadata": {},
   "outputs": [
    {
     "name": "stdout",
     "output_type": "stream",
     "text": [
      "{'c': 6, 'b': 7, 'a': 2}\n"
     ]
    }
   ],
   "source": [
    "d1={'a':2,'b':4}\n",
    "d2={'b':3,'c':6}\n",
    "d3={}\n",
    "keys=set(d1.keys() | d2.keys())\n",
    "for key in keys:\n",
    "    if key in d1.keys() and key in d2.keys():\n",
    "        d3[key]=d1[key]+d2[key]\n",
    "    elif key in d1.keys():\n",
    "        d3[key]=d1[key]\n",
    "    else:\n",
    "        d3[key]=d2[key]\n",
    "print(d3)"
   ]
  },
  {
   "cell_type": "code",
   "execution_count": 84,
   "id": "c0ad5d76-1c3a-4ce8-9255-6e83bc287eab",
   "metadata": {},
   "outputs": [
    {
     "ename": "SyntaxError",
     "evalue": "invalid syntax (1059617635.py, line 27)",
     "output_type": "error",
     "traceback": [
      "\u001b[1;36m  Cell \u001b[1;32mIn[84], line 27\u001b[1;36m\u001b[0m\n\u001b[1;33m    startCol++\u001b[0m\n\u001b[1;37m              ^\u001b[0m\n\u001b[1;31mSyntaxError\u001b[0m\u001b[1;31m:\u001b[0m invalid syntax\n"
     ]
    }
   ],
   "source": [
    "matrix = [\n",
    "    [1,  2,  3,  4],\n",
    "    [5,  6,  7,  8],\n",
    "    [9, 10, 11, 12]\n",
    "]\n",
    "startRow = 0\n",
    "startCol = 0\n",
    "endRow = len(matrix)\n",
    "endCol = len(matrix[0])\n",
    "\n",
    "while(startRow <= endRow and startCol <= endCol):\n",
    "    for j in range(startCol, endCol):\n",
    "        print(matrix[startRow][j])\n",
    "        \n",
    "    for i in range(startRow+1, endRow):\n",
    "        print(matrix[i][endCol-1])\n",
    "        \n",
    "    for j in range(endCol-2, startCol):\n",
    "        if(startRow == endRow):\n",
    "            break\n",
    "        print(matrix[endRow-1][j])\n",
    "        \n",
    "    for i in range(endRow-2, startRow):\n",
    "        if(startCol == endCol):\n",
    "            break\n",
    "        print(matrix[i][startCol])\n",
    "    startCol++\n",
    "    startRow++\n",
    "    endCol--\n",
    "    endRow--"
   ]
  },
  {
   "cell_type": "code",
   "execution_count": 55,
   "id": "24206dd4-ab25-41b3-aaa6-3ba410c6926c",
   "metadata": {},
   "outputs": [
    {
     "name": "stdout",
     "output_type": "stream",
     "text": [
      "102\n"
     ]
    }
   ],
   "source": [
    "matrix = [\n",
    "    [1, 2, 3, 4],\n",
    "    [5, 6, 7, 8],\n",
    "    [9, 10, 11, 12],\n",
    "    [13, 14, 15, 16]\n",
    "]\n",
    "size = len(matrix)\n",
    "sum = 0\n",
    "for i in range(0, size):\n",
    "    for j in range(0, size):\n",
    "        if(i == 0 or j == 0 or i == size-1 or j == size-1 ):\n",
    "            sum += matrix[i][j]\n",
    "\n",
    "print(sum)"
   ]
  },
  {
   "cell_type": "code",
   "execution_count": 76,
   "id": "ac7bef5c-9f79-42f9-a4b2-a64f52317993",
   "metadata": {},
   "outputs": [
    {
     "name": "stdout",
     "output_type": "stream",
     "text": [
      "[(1, 8), (2, 7), (3, 6), (4, 5)]\n"
     ]
    }
   ],
   "source": [
    "nums = [1, 2, 3, 4, 5, 6, 7, 8]\n",
    "target = 9\n",
    "li = []\n",
    "for i in range(0, len(nums)//2):\n",
    "    if(nums[i] + nums[len(nums)-i-1] == target):\n",
    "        li.append(tuple((nums[i], nums[len(nums)-i-1])))\n",
    "print(li)\n",
    "    "
   ]
  },
  {
   "cell_type": "code",
   "execution_count": null,
   "id": "1bd06d28-2688-41b0-b313-3f5826e54149",
   "metadata": {},
   "outputs": [],
   "source": [
    "nums = [1, 2, 3, 4, 5]\n",
    "k = 2\n",
    "for i in range(0, len(nums)-k):\n",
    "    "
   ]
  }
 ],
 "metadata": {
  "kernelspec": {
   "display_name": "Python [conda env:base] *",
   "language": "python",
   "name": "conda-base-py"
  },
  "language_info": {
   "codemirror_mode": {
    "name": "ipython",
    "version": 3
   },
   "file_extension": ".py",
   "mimetype": "text/x-python",
   "name": "python",
   "nbconvert_exporter": "python",
   "pygments_lexer": "ipython3",
   "version": "3.12.7"
  }
 },
 "nbformat": 4,
 "nbformat_minor": 5
}
