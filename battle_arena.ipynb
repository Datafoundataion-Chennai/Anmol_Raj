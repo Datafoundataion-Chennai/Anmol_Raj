{
 "cells": [
  {
   "cell_type": "code",
   "execution_count": 5,
   "id": "2192d452-c155-490e-a7f5-9e81afc84fca",
   "metadata": {},
   "outputs": [
    {
     "ename": "AttributeError",
     "evalue": "'super' object has no attribute '__inti__'",
     "output_type": "error",
     "traceback": [
      "\u001b[1;31m---------------------------------------------------------------------------\u001b[0m",
      "\u001b[1;31mAttributeError\u001b[0m                            Traceback (most recent call last)",
      "Cell \u001b[1;32mIn[5], line 53\u001b[0m\n\u001b[0;32m     49\u001b[0m     \u001b[38;5;28;01mdef\u001b[39;00m \u001b[38;5;21mattack\u001b[39m(\u001b[38;5;28mself\u001b[39m, target):\n\u001b[0;32m     50\u001b[0m         \u001b[38;5;28;01mreturn\u001b[39;00m \u001b[38;5;28mself\u001b[39m\u001b[38;5;241m.\u001b[39mcritical_chance \u001b[38;5;241m*\u001b[39m \u001b[38;5;241m2\u001b[39m\n\u001b[1;32m---> 53\u001b[0m w \u001b[38;5;241m=\u001b[39m Warrior(\u001b[38;5;124m\"\u001b[39m\u001b[38;5;124mThor\u001b[39m\u001b[38;5;124m\"\u001b[39m, \u001b[38;5;241m90\u001b[39m, \u001b[38;5;241m30\u001b[39m, \u001b[38;5;241m20\u001b[39m, \u001b[38;5;241m10\u001b[39m)\n\u001b[0;32m     54\u001b[0m m \u001b[38;5;241m=\u001b[39m Mage(\u001b[38;5;124m\"\u001b[39m\u001b[38;5;124mGandalf\u001b[39m\u001b[38;5;124m\"\u001b[39m, \u001b[38;5;241m80\u001b[39m, \u001b[38;5;241m25\u001b[39m, \u001b[38;5;241m10\u001b[39m, \u001b[38;5;241m15\u001b[39m)\n\u001b[0;32m     55\u001b[0m a \u001b[38;5;241m=\u001b[39m Archer(\u001b[38;5;124m\"\u001b[39m\u001b[38;5;124mAlex\u001b[39m\u001b[38;5;124m\"\u001b[39m, \u001b[38;5;241m70\u001b[39m, \u001b[38;5;241m15\u001b[39m, \u001b[38;5;241m5\u001b[39m, \u001b[38;5;241m10\u001b[39m)\n",
      "Cell \u001b[1;32mIn[5], line 24\u001b[0m, in \u001b[0;36mWarrior.__init__\u001b[1;34m(self, name, health, attack_power, defense, speed, rage)\u001b[0m\n\u001b[0;32m     23\u001b[0m \u001b[38;5;28;01mdef\u001b[39;00m \u001b[38;5;21m__init__\u001b[39m(\u001b[38;5;28mself\u001b[39m, name, health, attack_power, defense, speed, rage \u001b[38;5;241m=\u001b[39m \u001b[38;5;241m0\u001b[39m):\n\u001b[1;32m---> 24\u001b[0m     \u001b[38;5;28msuper\u001b[39m()\u001b[38;5;241m.\u001b[39m__inti__(name, health, attack_power, defense, speed)\n\u001b[0;32m     25\u001b[0m     \u001b[38;5;28mself\u001b[39m\u001b[38;5;241m.\u001b[39mrage \u001b[38;5;241m=\u001b[39m rage\n",
      "\u001b[1;31mAttributeError\u001b[0m: 'super' object has no attribute '__inti__'"
     ]
    }
   ],
   "source": [
    "class Character:\n",
    "        def __init__(self, name, health, attack_power, defense, speed):\n",
    "            self.name = name\n",
    "            self.health = health\n",
    "            self.attack_power = attack_power\n",
    "            self.defense = defense\n",
    "            self.speed = speed\n",
    "\n",
    "        def attack(self, target):\n",
    "            final_damage = max(1, self.attack_power - target.defense)\n",
    "            target.take_damage(final_damage)\n",
    "\n",
    "        def take_damage(self, amount):\n",
    "            self.health -= amount\n",
    "            if self.health < 0:\n",
    "                self.health = 0\n",
    "\n",
    "        def is_alive(self):\n",
    "            return self.health > 0\n",
    "            \n",
    "\n",
    "class Warrior(Character):\n",
    "    def __init__(self, name, health, attack_power, defense, speed, rage = 0):\n",
    "        super().__inti__(name, health, attack_power, defense, speed)\n",
    "        self.rage = rage\n",
    "    def attack(self, target):\n",
    "            if self.health < 0.3:\n",
    "                self.attack_power *= 2\n",
    "            super().attack(target)\n",
    "\n",
    "class Mage(Character):\n",
    "    def __init__(self, name, health, attack_power, defense, speed, mana = 100):\n",
    "        super().__init__(name, health, attack_power, defense, speed)\n",
    "        self.mana = mana\n",
    "    def fireball(self, target):\n",
    "        if self.mana >= 20:\n",
    "            damage = self.attack_power * 2\n",
    "            self.mana -= 20\n",
    "            self.take_damage(5)\n",
    "            target.take_damage(damage)\n",
    "\n",
    "    def attack(self, target):\n",
    "        self.fireball(target)\n",
    "\n",
    "class Archer(Character):\n",
    "    def __init__(self, name, health, attack_power, defense, speed, critical_chance = 0.3):\n",
    "        super().__init__(name, health, attack_power, defense, speed)\n",
    "        self.critical_chance = critical_chance\n",
    "    def attack(self, target):\n",
    "        return self.critical_chance * 2\n",
    "\n",
    "\n",
    "w = Warrior(\"Thor\", 90, 30, 20, 10)\n",
    "m = Mage(\"Gandalf\", 80, 25, 10, 15)\n",
    "a = Archer(\"Alex\", 70, 15, 5, 10)\n"
   ]
  },
  {
   "cell_type": "code",
   "execution_count": null,
   "id": "8073ce32-bc7b-4b32-8a7b-a312315dd1d1",
   "metadata": {},
   "outputs": [],
   "source": []
  }
 ],
 "metadata": {
  "kernelspec": {
   "display_name": "Python 3 (ipykernel)",
   "language": "python",
   "name": "python3"
  },
  "language_info": {
   "codemirror_mode": {
    "name": "ipython",
    "version": 3
   },
   "file_extension": ".py",
   "mimetype": "text/x-python",
   "name": "python",
   "nbconvert_exporter": "python",
   "pygments_lexer": "ipython3",
   "version": "3.12.7"
  }
 },
 "nbformat": 4,
 "nbformat_minor": 5
}
