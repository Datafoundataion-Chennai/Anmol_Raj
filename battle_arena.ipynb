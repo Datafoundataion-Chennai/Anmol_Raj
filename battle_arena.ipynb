class Character:
        def __init__(self, name, health, attack_power, defense, speed):
            self.name = name
            self.health = health
            self.attack_power = attack_power
            self.defense = defense
            self.speed = speed

        def attack(self, target):
            final_damage = max(1, self.attack_power - target.defense)
            target.take_damage(final_damage)

        def take_damage(self, amount):
            self.health -= amount
            if self.health < 0:
                self.health = 0

        def is_alive(self):
            return self.health > 0
            

class Warrior(Character):
    def __init__(self, name, health, attack_power, defense, speed, rage = 0):
        super().__inti__(name, health, attack_power, defense, speed)
        self.rage = rage
    def attack(self, target):
            if self.health < 0.3:
                self.attack_power *= 2
            super().attack(target)

class Mage(Character):
    def __init__(self, name, health, attack_power, defense, speed, mana = 100):
        super().__init__(name, health, attack_power, defense, speed)
        self.mana = mana
    def fireball(self, target):
        if self.mana >= 20:
            damage = self.attack_power * 2
            self.mana -= 20
            self.take_damage(5)
            target.take_damage(damage)

    def attack(self, target):
        self.fireball(target)

class Archer(Character):
    def __init__(self, name, health, attack_power, defense, speed, critical_chance = 0.3):
        super().__init__(name, health, attack_power, defense, speed)
        self.critical_chance = critical_chance
    def attack(self, target):
        return self.critical_chance * 2


w = Warrior("Thor", 90, 30, 20, 10)
m = Mage("Gandalf", 80, 25, 10, 15)
a = Archer("Alex", 70, 15, 5, 10)
