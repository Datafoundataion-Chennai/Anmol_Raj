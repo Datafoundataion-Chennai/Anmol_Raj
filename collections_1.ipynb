{
 "cells": [
  {
   "cell_type": "code",
   "execution_count": null,
   "id": "62093f54-8e64-4f54-b8de-e63a3c247219",
   "metadata": {},
   "outputs": [],
   "source": [
    "from collections import ChainMap\n",
    "\n",
    "class ChaiInventory:\n",
    "    def __init__(self, chai_shop):\n",
    "        self.inventory = ChainMap(branch for branch, val in chai_shop.items())\n",
    "        self.\n",
    "    def check_availability():\n",
    "\n",
    "    def deduct_stock():\n",
    "\n",
    "    def refill_stock():\n",
    "    \n",
    "chai_shop = ChaiInventory({\n",
    "        \"Branch_A\": {\"tea leaves\": 5, \"sugar\": 10},\n",
    "        \"Branch_B\": {\"milk\": 8, \"masala\": 6},\n",
    "        \"Branch_C\": {\"tea leaves\": 3, \"milk\": 2}\n",
    "    })\n",
    "# Scenario 1\n",
    "print(chai_shop.check_availability(\"milk\"))  # True (available in Branch_B)\n",
    "chai_shop.deduct_stock(\"tea leaves\")  # Deduct from Branch_A (priority)\n",
    "chai_shop.refill_stock(\"Branch_C\", \"sugar\", 15)  # Add 15 sugar to Branch_C\n",
    "# Scenario 2\n",
    "chai_shop.transfer_stock(\"Branch_B\", \"Branch_A\", \"milk\", 3)\n",
    "print(chai_shop.inventory[\"Branch_A\"][\"milk\"])  # Should increase by 3\n",
    "# Scenario 3\n",
    "chai_shop.add_stock_with_expiry(\"Branch_A\", \"milk\", 10, \"2025-03-10\")\n",
    "chai_shop.remove_expired_items(\"2025-03-11\")\n",
    "print(chai_shop.check_availability(\"milk\"))  # False (expired)"
   ]
  }
 ],
 "metadata": {
  "kernelspec": {
   "display_name": "Python [conda env:base] *",
   "language": "python",
   "name": "conda-base-py"
  },
  "language_info": {
   "codemirror_mode": {
    "name": "ipython",
    "version": 3
   },
   "file_extension": ".py",
   "mimetype": "text/x-python",
   "name": "python",
   "nbconvert_exporter": "python",
   "pygments_lexer": "ipython3",
   "version": "3.12.7"
  }
 },
 "nbformat": 4,
 "nbformat_minor": 5
}
