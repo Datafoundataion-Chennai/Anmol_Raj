{
 "cells": [
  {
   "cell_type": "code",
   "execution_count": null,
   "id": "52442baf-c5a5-48d9-9fbc-7f7807071735",
   "metadata": {},
   "outputs": [],
   "source": [
    "import csv\n",
    "li = []\n",
    "di = {}\n",
    "c1 = 0\n",
    "c2 = 0\n",
    "with open(\"task.csv\", \"r\") as file:\n",
    "    reader = file.reader(file)\n",
    "    "
   ]
  }
 ],
 "metadata": {
  "kernelspec": {
   "display_name": "Python [conda env:base] *",
   "language": "python",
   "name": "conda-base-py"
  },
  "language_info": {
   "codemirror_mode": {
    "name": "ipython",
    "version": 3
   },
   "file_extension": ".py",
   "mimetype": "text/x-python",
   "name": "python",
   "nbconvert_exporter": "python",
   "pygments_lexer": "ipython3",
   "version": "3.12.7"
  }
 },
 "nbformat": 4,
 "nbformat_minor": 5
}
