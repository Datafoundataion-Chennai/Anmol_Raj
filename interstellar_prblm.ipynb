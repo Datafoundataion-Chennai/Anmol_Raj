{
 "cells": [
  {
   "cell_type": "code",
   "execution_count": 25,
   "id": "23c9b03f-fc09-429a-baad-71bc524610c1",
   "metadata": {},
   "outputs": [
    {
     "name": "stdout",
     "output_type": "stream",
     "text": [
      "Current Crew Roster:\n",
      "1. Commander Vega (Role: Pilot, Experience: 9)\n",
      "2. Dr. Nova (Role: Scientist, Experience: 8)\n"
     ]
    }
   ],
   "source": [
    "# 3. Interstellar Crew Management (namedtuple, deque)\n",
    "# 🚀 Theme: Managing an Interstellar Space Crew\n",
    "# Problem:\n",
    "# You are the captain of a spaceship on a deep-space mission. Your crew members each have a name, role, and experience level.\n",
    "# 1.\tUse namedtuple to store crew member details.\n",
    "\n",
    "# 2.\tUse deque to manage the roster efficiently.\n",
    "\n",
    "# 3.\tImplement functions to:\n",
    "# –\tAdd a new crew member\n",
    "\n",
    "# –\tRemove the least experienced member\n",
    "\n",
    "# –\tDisplay the current crew lineup\n",
    "# Example Usage:\n",
    "# add_crew(\"Commander Vega\", \"Pilot\", 9)\n",
    "# add_crew(\"Dr. Nova\", \"Scientist\", 8)\n",
    "# add_crew(\"Lt. Orion\", \"Engineer\", 7)\n",
    "# remove_least_experienced()\n",
    "# display_roster()\n",
    "# Expected Output:\n",
    "# Current Crew Roster:\n",
    "# 1. Commander Vega (Role: Pilot, Experience: 9)\n",
    "# 2. Dr. Nova (Role: Scientist, Experience: 8)\n",
    "# 📌 Hint: Use namedtuple for structured crew data and deque for efficient roster changes.\n",
    "# ________________________________________\n",
    "\n",
    "from collections import namedtuple, deque\n",
    "\n",
    "CrewMember = namedtuple(\"CrewMember\", [\"name\", \"role\", \"exp\"])\n",
    "crew_roster = deque()\n",
    "def add_crew(name, role, exp):\n",
    "    member = CrewMember(name, role, exp)\n",
    "    crew_roster.append(member)\n",
    "def remove_least_exp():\n",
    "    if crew_roster:\n",
    "        min_exp = min(crew_roster, key = lambda member : member.exp)\n",
    "        crew_roster.remove(min_exp)\n",
    "def display_roster():\n",
    "    print(\"Current Crew Roster:\")\n",
    "    for idx, member in enumerate(crew_roster, start=1):\n",
    "        print(f\"{idx}. {member.name} (Role: {member.role}, Experience: {member.exp})\")\n",
    "add_crew(\"Commander Vega\", \"Pilot\", 9)\n",
    "add_crew(\"Dr. Nova\", \"Scientist\", 8)\n",
    "add_crew(\"Lt. Orion\", \"Engineer\", 7)\n",
    "\n",
    "remove_least_exp()\n",
    "display_roster()\n",
    "    "
   ]
  },
  {
   "cell_type": "code",
   "execution_count": null,
   "id": "d8ce7c5b-55c6-4131-925a-30f8c3c27ed3",
   "metadata": {},
   "outputs": [],
   "source": []
  }
 ],
 "metadata": {
  "kernelspec": {
   "display_name": "Python [conda env:base] *",
   "language": "python",
   "name": "conda-base-py"
  },
  "language_info": {
   "codemirror_mode": {
    "name": "ipython",
    "version": 3
   },
   "file_extension": ".py",
   "mimetype": "text/x-python",
   "name": "python",
   "nbconvert_exporter": "python",
   "pygments_lexer": "ipython3",
   "version": "3.12.7"
  }
 },
 "nbformat": 4,
 "nbformat_minor": 5
}
